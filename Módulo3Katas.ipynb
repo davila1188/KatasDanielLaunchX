{
 "cells": [
  {
   "cell_type": "markdown",
   "metadata": {},
   "source": [
    "# Ejercicio 1"
   ]
  },
  {
   "cell_type": "code",
   "execution_count": 3,
   "metadata": {},
   "outputs": [
    {
     "name": "stdout",
     "output_type": "stream",
     "text": [
      "Asteroide algo lento\n"
     ]
    }
   ],
   "source": [
    "velocidad_asteroide = 0\n",
    "velocidad_asteroide = float(input(\"¿A que velocidad (km/Hr) viaja el asteroide?\"))\n",
    "if(velocidad_asteroide>25):\n",
    "    print(\"ALERTA: Asteroide viajando demasiado Rapido\")\n",
    "else:\n",
    "    print(\"Asteroide algo lento\")\n",
    "\n",
    "\n"
   ]
  },
  {
   "cell_type": "markdown",
   "metadata": {},
   "source": [
    "# Ejercicio 2"
   ]
  },
  {
   "cell_type": "code",
   "execution_count": 7,
   "metadata": {},
   "outputs": [
    {
     "name": "stdout",
     "output_type": "stream",
     "text": [
      "Tranquilo, no pasa naaaadaa\n"
     ]
    }
   ],
   "source": [
    "velocidad_asteroide = 19\n",
    "if(velocidad_asteroide >= 20):\n",
    "    print(\"El Final se acerca ya... mira al cielo\")\n",
    "else:\n",
    "    print(\"Tranquilo, no pasa naaaadaa\")"
   ]
  },
  {
   "cell_type": "markdown",
   "metadata": {},
   "source": [
    "# Ejercicio 3"
   ]
  },
  {
   "cell_type": "code",
   "execution_count": 19,
   "metadata": {},
   "outputs": [
    {
     "name": "stdout",
     "output_type": "stream",
     "text": [
      "Uuuyyy te dejo porque este Asteroide viene rapidisímo y es de peligro (Voz de Raul Orvañanos)\n"
     ]
    }
   ],
   "source": [
    "velocidad_asteroide = 100\n",
    "tamano_asteroide = 2\n",
    "if tamano_asteroide >= 25 and tamano_asteroide < 1000:\n",
    "    print(\"Alerta, codigo Rojo, el asteroide es grandisimo\")\n",
    "elif velocidad_asteroide>= 25:\n",
    "    print(\"Uuuyyy te dejo porque este Asteroide viene rapidisímo y es de peligro (Voz de Raul Orvañanos)\")\n",
    "elif tamano_asteroide<25:\n",
    "    print(\"El asteroide se quemara en la atmosfera\")\n",
    "\n",
    "    "
   ]
  }
 ],
 "metadata": {
  "interpreter": {
   "hash": "0b723bf5564f04b3a56eda21308fa8a298fe1cd22d27b63601ae3d3623b463b2"
  },
  "kernelspec": {
   "display_name": "Python 3.10.2 64-bit",
   "language": "python",
   "name": "python3"
  },
  "language_info": {
   "codemirror_mode": {
    "name": "ipython",
    "version": 3
   },
   "file_extension": ".py",
   "mimetype": "text/x-python",
   "name": "python",
   "nbconvert_exporter": "python",
   "pygments_lexer": "ipython3",
   "version": "3.10.2"
  },
  "orig_nbformat": 4
 },
 "nbformat": 4,
 "nbformat_minor": 2
}
