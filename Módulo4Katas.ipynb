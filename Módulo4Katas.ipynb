{
 "cells": [
  {
   "cell_type": "markdown",
   "metadata": {},
   "source": [
    "# Ejercicio 1: Transformar cadenas"
   ]
  },
  {
   "cell_type": "code",
   "execution_count": 41,
   "metadata": {},
   "outputs": [
    {
     "name": "stdout",
     "output_type": "stream",
     "text": [
      " \n",
      "On average, the Moon moves 4cm away from the Earth every year\n",
      " The highest daylight temperature of the Moon is 127 Celsius\n"
     ]
    }
   ],
   "source": [
    "text = \"\"\"Interesting facts about the Moon. The Moon is Earth's only satellite. There are several interesting facts about the Moon and how it affects life here on Earth. \n",
    "On average, the Moon moves 4cm away from the Earth every year. This yearly drift is not significant enough to cause immediate effects on Earth. The highest daylight temperature of the Moon is 127 C.\"\"\"\n",
    "\n",
    "oraciones = text.split('.')\n",
    "\n",
    "# Define las palabras pista: average, temperature y distance suenan bien\n",
    "palabras_a_buscar = [\"average\", \"temperature\", \"distance\"]\n",
    "\n",
    "# Ciclo for para recorrer la cadena\n",
    "for oracion in oraciones:\n",
    "    for palabra in palabras_a_buscar:\n",
    "        if palabra in oracion: \n",
    "            # Cambiar C a Celsius\n",
    "            oracion = oracion.replace(' C',' Celsius')\n",
    "            print(oracion)\n",
    "\n",
    "\n",
    "\n"
   ]
  },
  {
   "cell_type": "markdown",
   "metadata": {},
   "source": [
    "# Ejercicio 2: Formateando Cadenas"
   ]
  },
  {
   "cell_type": "code",
   "execution_count": 6,
   "metadata": {},
   "outputs": [
    {
     "name": "stdout",
     "output_type": "stream",
     "text": [
      "Titulo De Moon\n",
      "------------------------------ \n",
      "Planeta: Earth \n",
      "Gravedad: 1.6199999999999999 m/s2  \n",
      " \n",
      "\n",
      "Gravedad en: Moon\n",
      "-----------------------\n",
      "Planeta: Earth\n",
      "Gravedad: 0.00162 m/s2\n",
      "\n"
     ]
    }
   ],
   "source": [
    "# Datos con los que vas a trabajar\n",
    "name = \"Moon\"\n",
    "gravity = 0.00162 # in kms\n",
    "planet = \"Earth\"\n",
    "\n",
    "#Creación de titulo\n",
    "Titulo = f'Titulo de {name}'\n",
    "\n",
    "\n",
    "Texto = f'''{'-'*30} \n",
    "Planeta: {planet} \n",
    "Gravedad: {gravity * 1000} m/s2  \n",
    "'''\n",
    "\n",
    "#Unión de Cadenas\n",
    "nuevo_texto = f'''{Titulo.title()}\n",
    "{Texto} '''\n",
    "\n",
    "print(nuevo_texto)\n",
    "\n",
    "new_template = \"\"\"\n",
    "Gravedad en: {nombre}\n",
    "-----------------------\n",
    "Planeta: {planeta}\n",
    "Gravedad: {gravedad} m/s2\n",
    "\"\"\"\n",
    "print(new_template.format(nombre=name, planeta=planet, gravedad=gravity))"
   ]
  }
 ],
 "metadata": {
  "interpreter": {
   "hash": "0b723bf5564f04b3a56eda21308fa8a298fe1cd22d27b63601ae3d3623b463b2"
  },
  "kernelspec": {
   "display_name": "Python 3.10.2 64-bit",
   "language": "python",
   "name": "python3"
  },
  "language_info": {
   "codemirror_mode": {
    "name": "ipython",
    "version": 3
   },
   "file_extension": ".py",
   "mimetype": "text/x-python",
   "name": "python",
   "nbconvert_exporter": "python",
   "pygments_lexer": "ipython3",
   "version": "3.10.2"
  },
  "orig_nbformat": 4
 },
 "nbformat": 4,
 "nbformat_minor": 2
}
