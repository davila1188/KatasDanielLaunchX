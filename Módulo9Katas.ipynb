{
 "cells": [
  {
   "cell_type": "markdown",
   "metadata": {},
   "source": [
    "# Ejercicio: Uso de funciones en Python"
   ]
  },
  {
   "cell_type": "code",
   "execution_count": 12,
   "metadata": {},
   "outputs": [
    {
     "name": "stdout",
     "output_type": "stream",
     "text": [
      "73.33333333333333\n",
      "48.333333333333336\n"
     ]
    }
   ],
   "source": [
    "# Función para leer 3 tanques de combustible y muestre el promedio\n",
    "\n",
    "def Tanques(tanque1, tanque2, tanque3):\n",
    "    promedio = (tanque1+tanque2+tanque3)/3\n",
    "    print(promedio)\n",
    "\n",
    "# Llamamos a la función que genera el reporte print(funcion(tanque1, tanque2, tanque3))\n",
    "Tanques(55, 75, 90)\n",
    "\n",
    "# Función promedio \n",
    "def Promedio_Tanques(tanque):\n",
    "    total_tanques = len(tanque)\n",
    "    total_litros = sum(tanque)\n",
    "    promedio = total_litros/total_tanques\n",
    "    print(promedio)\n",
    "\n",
    "tanques = [23,45,67,89,32,34]\n",
    "Promedio_Tanques(tanques)"
   ]
  },
  {
   "cell_type": "markdown",
   "metadata": {},
   "source": [
    "# Ejercicio 2: Trabajo con argumentos de palabra clave"
   ]
  },
  {
   "cell_type": "code",
   "execution_count": 25,
   "metadata": {},
   "outputs": [
    {
     "name": "stdout",
     "output_type": "stream",
     "text": [
      "\n",
      "La hora de lanzamiento es: 11:43\n",
      "El destino es: Los Angeles\n",
      "El tiempo estimado es: 220 minutos\n",
      "El tanque_interno contiene 3000 litros\n",
      "El tanque_reserva contiene 1000 litros\n",
      "\n"
     ]
    }
   ],
   "source": [
    "# Función con un informe preciso de la misión. Considera hora de prelanzamiento, tiempo de vuelo, destino, tanque externo y tanque interno\n",
    "def informe_mision(hora_prelanzamiento, tiempo_vuelo, destino, tanque_externo, tanque_interno):\n",
    "    informe = f'''La hora de lanzamiento es: {hora_prelanzamiento}\\nEl tiempo de vuelo es: {tiempo_vuelo} minutos\\nEl destino es: {destino}\\nEl tanque externo lleva: {tanque_externo} litros\\nEl tanque interno lleva: {tanque_interno} litros'''\n",
    "    return informe\n",
    "\n",
    "#print(informe_mision('11:43', 34, 'Los Angeles', 1200, 3000))\n",
    "\n",
    "\n",
    "# Escribe tu nueva función de reporte considerando lo anterior\n",
    "def informe_mision2(hora_prelanzamiento, destino, *minutos_escalas, **tanques):\n",
    "    informe = f'''La hora de lanzamiento es: {hora_prelanzamiento}\\nEl destino es: {destino}\\nEl tiempo estimado es: {sum(minutos_escalas)} minutos\\nEl combustible total es de: {sum(tanques.values())} litros'''\n",
    "    return informe\n",
    "\n",
    "#print(informe_mision2('11:43','Los Angeles', 130, 90, tanque_interno=3000, tanque_reserva=1000))\n",
    "\n",
    "# Escribe tu nueva función\n",
    "def informe_mision3(hora_prelanzamiento, destino, *minutos_escalas, **tanques):\n",
    "    informe = f'''\n",
    "La hora de lanzamiento es: {hora_prelanzamiento}\n",
    "El destino es: {destino}\n",
    "El tiempo estimado es: {sum(minutos_escalas)} minutos\n",
    "'''\n",
    "\n",
    "    cadena_tanques=\"\"\n",
    "    for nombre_tanque, capacidad in tanques.items():\n",
    "        cadena_tanques = cadena_tanques + f'''El {nombre_tanque} contiene {capacidad} litros\\n'''\n",
    "\n",
    "    return informe + cadena_tanques\n",
    "\n",
    "print(informe_mision3('11:43','Los Angeles', 130, 90, tanque_interno=3000, tanque_reserva=1000))"
   ]
  }
 ],
 "metadata": {
  "interpreter": {
   "hash": "0b723bf5564f04b3a56eda21308fa8a298fe1cd22d27b63601ae3d3623b463b2"
  },
  "kernelspec": {
   "display_name": "Python 3.10.2 64-bit",
   "language": "python",
   "name": "python3"
  },
  "language_info": {
   "codemirror_mode": {
    "name": "ipython",
    "version": 3
   },
   "file_extension": ".py",
   "mimetype": "text/x-python",
   "name": "python",
   "nbconvert_exporter": "python",
   "pygments_lexer": "ipython3",
   "version": "3.10.2"
  },
  "orig_nbformat": 4
 },
 "nbformat": 4,
 "nbformat_minor": 2
}
