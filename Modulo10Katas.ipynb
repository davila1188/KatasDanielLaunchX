{
 "cells": [
  {
   "cell_type": "markdown",
   "metadata": {},
   "source": [
    "# Manejo de excepciones"
   ]
  },
  {
   "cell_type": "code",
   "execution_count": 2,
   "metadata": {},
   "outputs": [
    {
     "name": "stdout",
     "output_type": "stream",
     "text": [
      "Hubo un error al imprimir la información, revisa que los registros sean correctos\n",
      "None\n"
     ]
    }
   ],
   "source": [
    "def informe_mision3(hora_prelanzamiento, destino, *minutos_escalas, **tanques):\n",
    "    try:\n",
    "        configuration = open('config.txt')\n",
    "        informe = f'''\n",
    "La hora de lanzamiento es: {hora_prelanzamiento}\n",
    "El destino es: {destino}\n",
    "El tiempo estimado es: {sum(minutos_escalas)} minutos\n",
    "'''\n",
    "\n",
    "        cadena_tanques=\"\"\n",
    "        for nombre_tanque, capacidad in tanques.items():\n",
    "            cadena_tanques = cadena_tanques + f'''El {nombre_tanque} contiene {capacidad} litros\\n'''\n",
    "\n",
    "        return informe + cadena_tanques + 4\n",
    "\n",
    "    except Exception:\n",
    "         print(\"Hubo un error al imprimir la información, revisa que los registros sean correctos\")\n",
    "        \n",
    "\n",
    "print(informe_mision3('11:43','Los Angeles', 130, 90, tanque_interno=3000, tanque_reserva=1000))"
   ]
  }
 ],
 "metadata": {
  "interpreter": {
   "hash": "0b723bf5564f04b3a56eda21308fa8a298fe1cd22d27b63601ae3d3623b463b2"
  },
  "kernelspec": {
   "display_name": "Python 3.10.2 64-bit",
   "language": "python",
   "name": "python3"
  },
  "language_info": {
   "codemirror_mode": {
    "name": "ipython",
    "version": 3
   },
   "file_extension": ".py",
   "mimetype": "text/x-python",
   "name": "python",
   "nbconvert_exporter": "python",
   "pygments_lexer": "ipython3",
   "version": "3.10.2"
  },
  "orig_nbformat": 4
 },
 "nbformat": 4,
 "nbformat_minor": 2
}
